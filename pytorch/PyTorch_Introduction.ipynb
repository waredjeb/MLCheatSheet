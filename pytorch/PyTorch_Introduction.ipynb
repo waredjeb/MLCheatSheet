{
 "cells": [
  {
   "cell_type": "markdown",
   "metadata": {},
   "source": [
    "## Introduction to PyTorch"
   ]
  },
  {
   "cell_type": "markdown",
   "metadata": {},
   "source": [
    "### Tensors\n",
    "\n",
    "It turns out neural network computations are just a bunch of linear algebra operations on tensors which are a generalization of matrices. The fundamental data structure for neural networks are tensorrs and PyTorch is built around tensors"
   ]
  },
  {
   "cell_type": "code",
   "execution_count": 1,
   "metadata": {},
   "outputs": [],
   "source": [
    "#Import pytorch\n",
    "import torch"
   ]
  },
  {
   "cell_type": "code",
   "execution_count": 2,
   "metadata": {},
   "outputs": [],
   "source": [
    "def activation(x):\n",
    "    \"\"\"\n",
    "    Sigmoid activation function\n",
    "    x: torch.Tensor \n",
    "    \"\"\"\n",
    "    return 1/(1+torch.exp(-x))"
   ]
  },
  {
   "cell_type": "code",
   "execution_count": 5,
   "metadata": {},
   "outputs": [],
   "source": [
    "#Let's generate some data\n",
    "#Set random seed\n",
    "torch.manual_seed(7)\n",
    "\n",
    "#Create features, givin tuple as size, randn (random from normal variable)\n",
    "features = torch.randn((1,5)) #1 row, 5 cols\n",
    "\n",
    "#Create weights for our data\n",
    "weights = torch.rand_like(features)\n",
    "\n",
    "#Create the bias term\n",
    "bias = torch.randn((1,1)) #"
   ]
  },
  {
   "cell_type": "code",
   "execution_count": 13,
   "metadata": {},
   "outputs": [
    {
     "name": "stdout",
     "output_type": "stream",
     "text": [
      "tensor([[0.6140]])\n",
      "tensor([[0.6140]])\n"
     ]
    }
   ],
   "source": [
    "#Let's calculate the output of our neural network\n",
    "\n",
    "y = activation(torch.sum(features * weights) + bias)\n",
    "print(y)\n",
    "\n",
    "y = activation((features * weights).sum() + bias)\n",
    "print(y)\n",
    "                "
   ]
  },
  {
   "cell_type": "code",
   "execution_count": 22,
   "metadata": {},
   "outputs": [
    {
     "name": "stdout",
     "output_type": "stream",
     "text": [
      "torch.Size([1, 5])\n",
      "torch.Size([1, 5])\n"
     ]
    }
   ],
   "source": [
    "#Matrix multiplication through modern libraries\n",
    "#Note using the tensor method you have to take care of having\n",
    "#The correct dimensions. Let's see.\n",
    "\n",
    "#Run time error, it complains about dimensions \n",
    "#mult = torch.mm(weights, features)\n",
    "\n",
    "print(weights.shape)\n",
    "print(features.shape)\n",
    "\n",
    "#We need [n,m]x[m,n]! Let's reshape the vectors"
   ]
  },
  {
   "cell_type": "code",
   "execution_count": 37,
   "metadata": {},
   "outputs": [
    {
     "data": {
      "text/plain": [
       "torch.Size([1, 5])"
      ]
     },
     "execution_count": 37,
     "metadata": {},
     "output_type": "execute_result"
    }
   ],
   "source": [
    "# features.resize_(features.shape[1], features.shape[0])\n",
    "# features.shape\n",
    "# #But, better to creare a new vector with different shape\n"
   ]
  },
  {
   "cell_type": "code",
   "execution_count": 46,
   "metadata": {},
   "outputs": [
    {
     "name": "stdout",
     "output_type": "stream",
     "text": [
      "torch.Size([5, 1])\n"
     ]
    }
   ],
   "source": [
    "featuresT = features.view(features.shape[1], features.shape[0])\n",
    "print(featuresT.shape)"
   ]
  },
  {
   "cell_type": "code",
   "execution_count": 44,
   "metadata": {},
   "outputs": [
    {
     "data": {
      "text/plain": [
       "tensor([[0.6140]])"
      ]
     },
     "execution_count": 44,
     "metadata": {},
     "output_type": "execute_result"
    }
   ],
   "source": [
    "#Now we are ready to perform our multiplication\n",
    "y = activation(torch.sum(torch.mm(weights,featuresT)) + bias)\n",
    "y"
   ]
  },
  {
   "cell_type": "markdown",
   "metadata": {},
   "source": [
    "### Numpy to Torch and Back"
   ]
  },
  {
   "cell_type": "code",
   "execution_count": 56,
   "metadata": {},
   "outputs": [],
   "source": [
    "import numpy as np"
   ]
  },
  {
   "cell_type": "code",
   "execution_count": 57,
   "metadata": {},
   "outputs": [
    {
     "name": "stdout",
     "output_type": "stream",
     "text": [
      "[[0.39476001 0.90535771 0.46747765]\n",
      " [0.97629124 0.04471822 0.85189157]\n",
      " [0.76437726 0.22582564 0.42229591]\n",
      " [0.65479359 0.56546289 0.39972986]]\n"
     ]
    }
   ],
   "source": [
    "#Let's create a numpy array adn try to make it a torch tensor\n",
    "a = np.random.rand(4,3)\n",
    "print(a)"
   ]
  },
  {
   "cell_type": "code",
   "execution_count": 58,
   "metadata": {},
   "outputs": [
    {
     "name": "stdout",
     "output_type": "stream",
     "text": [
      "tensor([[0.3948, 0.9054, 0.4675],\n",
      "        [0.9763, 0.0447, 0.8519],\n",
      "        [0.7644, 0.2258, 0.4223],\n",
      "        [0.6548, 0.5655, 0.3997]], dtype=torch.float64)\n"
     ]
    }
   ],
   "source": [
    "b = torch.from_numpy(a)\n",
    "print(b)\n",
    "\n",
    "#Simple, isn't it?"
   ]
  },
  {
   "cell_type": "code",
   "execution_count": 59,
   "metadata": {},
   "outputs": [
    {
     "name": "stdout",
     "output_type": "stream",
     "text": [
      "[[0.39476001 0.90535771 0.46747765]\n",
      " [0.97629124 0.04471822 0.85189157]\n",
      " [0.76437726 0.22582564 0.42229591]\n",
      " [0.65479359 0.56546289 0.39972986]]\n"
     ]
    }
   ],
   "source": [
    "#We can go also back to numpy\n",
    "c = b.numpy()\n",
    "print(c)"
   ]
  },
  {
   "cell_type": "markdown",
   "metadata": {},
   "source": [
    "#### REMINDER\n",
    "The memory is shared between numpy array and pytorch, so if you change the values ***in_place*** of one object, the other will change as well!"
   ]
  },
  {
   "cell_type": "code",
   "execution_count": 60,
   "metadata": {},
   "outputs": [
    {
     "name": "stdout",
     "output_type": "stream",
     "text": [
      "tensor([[0.7895, 1.8107, 0.9350],\n",
      "        [1.9526, 0.0894, 1.7038],\n",
      "        [1.5288, 0.4517, 0.8446],\n",
      "        [1.3096, 1.1309, 0.7995]], dtype=torch.float64)\n",
      "[[0.78952002 1.81071542 0.9349553 ]\n",
      " [1.95258247 0.08943643 1.70378314]\n",
      " [1.52875452 0.45165129 0.84459183]\n",
      " [1.30958718 1.13092577 0.79945971]]\n"
     ]
    }
   ],
   "source": [
    "print(b.mul_(2))\n",
    "print(c)"
   ]
  }
 ],
 "metadata": {
  "kernelspec": {
   "display_name": "Python 3",
   "language": "python",
   "name": "python3"
  },
  "language_info": {
   "codemirror_mode": {
    "name": "ipython",
    "version": 3
   },
   "file_extension": ".py",
   "mimetype": "text/x-python",
   "name": "python",
   "nbconvert_exporter": "python",
   "pygments_lexer": "ipython3",
   "version": "3.6.9"
  }
 },
 "nbformat": 4,
 "nbformat_minor": 4
}
